{
 "cells": [
  {
   "cell_type": "markdown",
   "metadata": {},
   "source": [
    "# Instalación de dependencias / Dependencies"
   ]
  },
  {
   "cell_type": "code",
   "execution_count": null,
   "metadata": {},
   "outputs": [],
   "source": [
    "#%pip install opencv-python\n",
    "#%pip install mediapipe\n",
    "#%pip install sounddevice\n",
    "#%pip install git+https://github.com/openai/whisper.git"
   ]
  },
  {
   "cell_type": "markdown",
   "metadata": {},
   "source": [
    "Programa de visión por computador que analiza los dedos de las manos que el usuario tiene levantados.\n",
    "\n",
    "En función de qué dedos y de qué mano estén levantados, calcula un número en base 2 que representa esa combinación. La mano izquierda representa los bits menos significativos y la derecha los más significativos, permitiendo representar números del 0 al 1023."
   ]
  },
  {
   "cell_type": "markdown",
   "metadata": {},
   "source": [
    "Computer vision program that analyzes which fingers the user has raised.\n",
    "\n",
    "Based on which fingers and which hand are raised, it calculates a binary number that represents the combination. The left hand represents the least significant bits and the right hand the most significant bits, allowing numbers from 0 to 1023 to be represented."
   ]
  },
  {
   "cell_type": "code",
   "execution_count": null,
   "metadata": {},
   "outputs": [],
   "source": [
    "import cv2\n",
    "import mediapipe as mp\n",
    "\n",
    "# cargar el clasificador preentrenado para detección de rostros\n",
    "face_cascade = cv2.CascadeClassifier(cv2.data.haarcascades + 'haarcascade_frontalface_default.xml')\n",
    "\n",
    "# inicializar MediaPipe Hands\n",
    "mp_hands = mp.solutions.hands\n",
    "mp_drawing = mp.solutions.drawing_utils\n",
    "hands = mp_hands.Hands(static_image_mode=False, max_num_hands=2, min_detection_confidence=0.7)\n",
    "\n",
    "cap = cv2.VideoCapture(0)  # 0 es la webcam principal\n",
    "\n",
    "def calcular_valor_binario(dedos_levantados, mano_label):\n",
    "    # Izq (menos significativa) o Der (más significativa)\n",
    "    # Orden: [Pulgar, Índice, Medio, Anular, Meñique] -> [0, 1, 2, 3, 4]\n",
    "    pesos = [1 << i for i in range(5)] if mano_label == 'Left' else [1 << (5 + i) for i in range(5)]\n",
    "    return sum(p for d, p in zip(dedos_levantados, pesos) if d)\n",
    "\n",
    "while True:\n",
    "    ret, frame = cap.read()\n",
    "    if not ret:\n",
    "        break\n",
    "\n",
    "    frame = cv2.flip(frame, 1)  # espejar la imagen para que sea más intuitivo\n",
    "    rgb_frame = cv2.cvtColor(frame, cv2.COLOR_BGR2RGB)\n",
    "    gray = cv2.cvtColor(frame, cv2.COLOR_BGR2GRAY)  # para detección de rostros\n",
    "\n",
    "    # detección de rostros\n",
    "    faces = face_cascade.detectMultiScale(gray, scaleFactor=1.1, minNeighbors=5)\n",
    "    for (x, y, w, h) in faces:\n",
    "        cv2.rectangle(frame, (x, y), (x + w, y + h), (255, 0, 0), 2)\n",
    "\n",
    "    # detección de manos y dedos levantados\n",
    "    results = hands.process(rgb_frame)\n",
    "    total_valor = 0\n",
    "    if results.multi_hand_landmarks:\n",
    "        for hand_landmarks, hand_info in zip(results.multi_hand_landmarks, results.multi_handedness):\n",
    "            mp_drawing.draw_landmarks(frame, hand_landmarks, mp_hands.HAND_CONNECTIONS)\n",
    "\n",
    "            dedos = []\n",
    "            # dedos menos el pulgar\n",
    "            for tip in [8, 12, 16, 20]:\n",
    "                dedos.append(int(hand_landmarks.landmark[tip].y < hand_landmarks.landmark[tip - 2].y))\n",
    "            # pulgar\n",
    "            dedos.insert(0, int(hand_landmarks.landmark[4].x < hand_landmarks.landmark[3].x))\n",
    "\n",
    "            # posición de la muñerca\n",
    "            h, w, _ = frame.shape\n",
    "            wrist = hand_landmarks.landmark[0]\n",
    "            x, y = int(wrist.x * w), int(wrist.y * h)\n",
    "\n",
    "            label = hand_info.classification[0].label  # \"Left\" o \"Right\"\n",
    "            valor = calcular_valor_binario(dedos, label)\n",
    "            total_valor += valor\n",
    "\n",
    "            cv2.putText(frame, f\"{label} hand: {valor}\", (x, y - 10),\n",
    "                        cv2.FONT_HERSHEY_SIMPLEX, 1, (0, 255, 0), 2)\n",
    "\n",
    "    cv2.putText(frame, f\"Total: {total_valor}\", (10, 50),\n",
    "                cv2.FONT_HERSHEY_SIMPLEX, 1.2, (0, 0, 255), 3)\n",
    "\n",
    "    cv2.imshow(\"Webcam - Codificación Binaria con Dedos\", frame)\n",
    "    if cv2.waitKey(1) & 0xFF == ord('q'):\n",
    "        break\n",
    "\n",
    "cap.release()\n",
    "cv2.destroyAllWindows()"
   ]
  }
 ],
 "metadata": {
  "kernelspec": {
   "display_name": "base",
   "language": "python",
   "name": "python3"
  },
  "language_info": {
   "name": "python",
   "version": "3.12.4"
  }
 },
 "nbformat": 4,
 "nbformat_minor": 2
}
